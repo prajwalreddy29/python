{
  "nbformat": 4,
  "nbformat_minor": 0,
  "metadata": {
    "colab": {
      "name": "Untitled3.ipynb",
      "provenance": [],
      "authorship_tag": "ABX9TyOlGKR/1eHr620BAFJy3/gl",
      "include_colab_link": true
    },
    "kernelspec": {
      "name": "python3",
      "display_name": "Python 3"
    },
    "language_info": {
      "name": "python"
    }
  },
  "cells": [
    {
      "cell_type": "markdown",
      "metadata": {
        "id": "view-in-github",
        "colab_type": "text"
      },
      "source": [
        "<a href=\"https://colab.research.google.com/github/prajwalreddy29/python/blob/main/Untitled3.ipynb\" target=\"_parent\"><img src=\"https://colab.research.google.com/assets/colab-badge.svg\" alt=\"Open In Colab\"/></a>"
      ]
    },
    {
      "cell_type": "code",
      "execution_count": 1,
      "metadata": {
        "colab": {
          "base_uri": "https://localhost:8080/"
        },
        "id": "5pbzoa2D8GOt",
        "outputId": "de040061-e857-4b54-aa05-3cc990da3874"
      },
      "outputs": [
        {
          "output_type": "stream",
          "name": "stdout",
          "text": [
            "cat\n",
            "tac\n"
          ]
        }
      ],
      "source": [
        "a=str(input())[::-1]\n",
        "print(a)\n"
      ]
    },
    {
      "cell_type": "code",
      "source": [
        "import array as arr\n",
        "m=input(\"m\")\n",
        "n=input(\"n\")\n",
        "arr\n",
        "#for i in range(0,int(m)):\n",
        " ## for j in range(0,int(n)):\n",
        "#k=i*j\n",
        "arr=[i*j for i in range(0,int(m)) for j in range(0,int(n)) ]\n",
        "print(arr,\"( )\")\n"
      ],
      "metadata": {
        "colab": {
          "base_uri": "https://localhost:8080/"
        },
        "id": "YFOEGYwG9Jul",
        "outputId": "dd1dfb23-8ee9-464b-c5fb-358052418328"
      },
      "execution_count": 18,
      "outputs": [
        {
          "output_type": "stream",
          "name": "stdout",
          "text": [
            "m3\n",
            "n4\n",
            "[0, 0, 0, 0, 0, 1, 2, 3, 0, 2, 4, 6]  \n"
          ]
        }
      ]
    },
    {
      "cell_type": "code",
      "source": [
        "\n",
        "m=input()\n",
        "n=input()\n",
        "arr=[] \n",
        "for i in range(0,int(m)):\n",
        "   for j in range(0,int(n)):\n",
        "    k=arr.append(int(i*j))\n",
        "    print(k)"
      ],
      "metadata": {
        "colab": {
          "base_uri": "https://localhost:8080/"
        },
        "id": "aJrrnQaSFYkN",
        "outputId": "533fba12-392f-4ca5-bdb8-6c78e15ac4e7"
      },
      "execution_count": null,
      "outputs": [
        {
          "name": "stdout",
          "output_type": "stream",
          "text": [
            "3\n"
          ]
        }
      ]
    }
  ]
}